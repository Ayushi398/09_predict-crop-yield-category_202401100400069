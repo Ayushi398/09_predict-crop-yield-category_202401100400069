{
  "nbformat": 4,
  "nbformat_minor": 0,
  "metadata": {
    "colab": {
      "provenance": []
    },
    "kernelspec": {
      "name": "python3",
      "display_name": "Python 3"
    },
    "language_info": {
      "name": "python"
    }
  },
  "cells": [
    {
      "cell_type": "code",
      "execution_count": 2,
      "metadata": {
        "id": "2TjfIGthr_Dq"
      },
      "outputs": [],
      "source": [
        "import pandas as pd\n",
        "import numpy as np\n",
        "import seaborn as sns\n",
        "import matplotlib.pyplot as plt\n",
        "from sklearn.model_selection import train_test_split\n",
        "from sklearn.preprocessing import LabelEncoder\n",
        "from sklearn.ensemble import RandomForestClassifier\n",
        "from sklearn.metrics import confusion_matrix, classification_report, accuracy_score, precision_score, recall_score\n"
      ]
    },
    {
      "cell_type": "code",
      "source": [
        "data=pd.read_csv('/content/drive/MyDrive/crop_yield(1).csv')"
      ],
      "metadata": {
        "id": "vykFTEIywSB_"
      },
      "execution_count": 21,
      "outputs": []
    },
    {
      "cell_type": "code",
      "source": [
        "np.random.seed(42)\n",
        "n_samples = 200\n",
        "\n",
        "soil_types = ['Clay', 'Sandy', 'Loamy']\n",
        "seed_types = ['A', 'B', 'C']\n",
        "rainfall = np.random.normal(loc=200, scale=50, size=n_samples)\n",
        "soil = np.random.choice(soil_types, n_samples)\n",
        "seed = np.random.choice(seed_types, n_samples)\n"
      ],
      "metadata": {
        "id": "HI3bce4FtI3Y"
      },
      "execution_count": 22,
      "outputs": []
    },
    {
      "cell_type": "code",
      "source": [
        "yield_category = []\n",
        "for i in range(n_samples):\n",
        "    if rainfall[i] > 230 and soil[i] == 'Loamy':\n",
        "        yield_category.append('High')\n",
        "    elif rainfall[i] < 170 and seed[i] == 'A':\n",
        "        yield_category.append('Low')\n",
        "    else:\n",
        "        yield_category.append('Medium')\n",
        "\n",
        "df = pd.DataFrame({\n",
        "    'Soil': soil,\n",
        "    'Rainfall': rainfall,\n",
        "    'SeedType': seed,\n",
        "    'YieldCategory': yield_category\n",
        "})\n"
      ],
      "metadata": {
        "id": "7mjexdgJtZ_C"
      },
      "execution_count": 23,
      "outputs": []
    },
    {
      "cell_type": "code",
      "source": [
        "df_encoded = pd.get_dummies(df, columns=['Soil', 'SeedType'], drop_first=True)\n",
        "label_encoder = LabelEncoder()\n",
        "df_encoded['YieldCategory'] = label_encoder.fit_transform(df_encoded['YieldCategory'])"
      ],
      "metadata": {
        "id": "7IGW4Q03tdWt"
      },
      "execution_count": 24,
      "outputs": []
    },
    {
      "cell_type": "code",
      "source": [
        "X = df_encoded.drop('YieldCategory', axis=1)\n",
        "y = df_encoded['YieldCategory']\n",
        "X_train, X_test, y_train, y_test = train_test_split(X, y, test_size=0.25, random_state=42)"
      ],
      "metadata": {
        "id": "_wuMiBDytp9P"
      },
      "execution_count": 25,
      "outputs": []
    },
    {
      "cell_type": "code",
      "source": [
        "model = RandomForestClassifier(random_state=42)\n",
        "model.fit(X_train, y_train)\n",
        "y_pred = model.predict(X_test)"
      ],
      "metadata": {
        "id": "LzZ3tImntv6n"
      },
      "execution_count": 26,
      "outputs": []
    },
    {
      "cell_type": "code",
      "source": [
        "acc = accuracy_score(y_test, y_pred)\n",
        "precision = precision_score(y_test, y_pred, average='weighted', zero_division=0)\n",
        "recall = recall_score(y_test, y_pred, average='weighted', zero_division=0)\n",
        "report = classification_report(y_test, y_pred, target_names=label_encoder.classes_)"
      ],
      "metadata": {
        "id": "4426zzD6tx9G"
      },
      "execution_count": 27,
      "outputs": []
    },
    {
      "cell_type": "code",
      "source": [
        "print(\"Classification Report:\\n\", report)\n",
        "print(f\"Accuracy: {acc:.2f}\")\n",
        "print(f\"Precision (weighted): {precision:.2f}\")\n",
        "print(f\"Recall (weighted): {recall:.2f}\")"
      ],
      "metadata": {
        "colab": {
          "base_uri": "https://localhost:8080/"
        },
        "id": "PpKPHSMKt-GE",
        "outputId": "d0bf4074-d841-4085-fd72-7cbb6cca0d68"
      },
      "execution_count": 28,
      "outputs": [
        {
          "output_type": "stream",
          "name": "stdout",
          "text": [
            "Classification Report:\n",
            "               precision    recall  f1-score   support\n",
            "\n",
            "        High       1.00      1.00      1.00         4\n",
            "         Low       1.00      0.86      0.92         7\n",
            "      Medium       0.97      1.00      0.99        39\n",
            "\n",
            "    accuracy                           0.98        50\n",
            "   macro avg       0.99      0.95      0.97        50\n",
            "weighted avg       0.98      0.98      0.98        50\n",
            "\n",
            "Accuracy: 0.98\n",
            "Precision (weighted): 0.98\n",
            "Recall (weighted): 0.98\n"
          ]
        }
      ]
    },
    {
      "cell_type": "code",
      "source": [
        "conf_matrix = confusion_matrix(y_test, y_pred)\n",
        "plt.figure(figsize=(6, 4))\n",
        "sns.heatmap(conf_matrix, annot=True, fmt='d', cmap='Blues',\n",
        "            xticklabels=label_encoder.classes_,\n",
        "            yticklabels=label_encoder.classes_)\n",
        "plt.title(\"Confusion Matrix\")\n",
        "plt.xlabel(\"Predicted\")\n",
        "plt.ylabel(\"Actual\")\n",
        "plt.tight_layout()\n",
        "plt.show()"
      ],
      "metadata": {
        "colab": {
          "base_uri": "https://localhost:8080/",
          "height": 407
        },
        "id": "RJ2ZZF8QuDKJ",
        "outputId": "6aa9199e-71b2-40d5-db5e-7b901e670f56"
      },
      "execution_count": 29,
      "outputs": [
        {
          "output_type": "display_data",
          "data": {
            "text/plain": [
              "<Figure size 600x400 with 2 Axes>"
            ],
            "image/png": "[encoded data removed]"
          },
          "metadata": {}
        }
      ]
    },
    {
      "cell_type": "code",
      "source": [],
      "metadata": {
        "id": "DQJ7dF0s_Epw"
      },
      "execution_count": 29,
      "outputs": []
    }
  ]
}